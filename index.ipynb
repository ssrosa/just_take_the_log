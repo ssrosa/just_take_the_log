{
 "cells": [
  {
   "cell_type": "markdown",
   "metadata": {},
   "source": [
    "# Just Take the Log!\n",
    "## Why does everybody want me to take the log?"
   ]
  },
  {
   "cell_type": "code",
   "execution_count": 1,
   "metadata": {},
   "outputs": [],
   "source": [
    "import numpy as np\n",
    "import matplotlib.pyplot as plt\n",
    "import pandas as pd"
   ]
  },
  {
   "cell_type": "code",
   "execution_count": null,
   "metadata": {},
   "outputs": [],
   "source": []
  },
  {
   "cell_type": "code",
   "execution_count": 4,
   "metadata": {},
   "outputs": [
    {
     "data": {
      "text/plain": [
       "0.25"
      ]
     },
     "execution_count": 4,
     "metadata": {},
     "output_type": "execute_result"
    }
   ],
   "source": [
    "2 ** -2"
   ]
  },
  {
   "cell_type": "code",
   "execution_count": null,
   "metadata": {},
   "outputs": [],
   "source": []
  },
  {
   "cell_type": "code",
   "execution_count": null,
   "metadata": {},
   "outputs": [],
   "source": [
    "#First log-transform each column to reduce skew\n",
    "#and set a similar scale for each\n",
    "price_normed = np.log(df_normed['price'])\n",
    "sqft_normed = np.log(df_normed['sqft']) \n",
    "yr_built_normed = np.log(df_normed['yr_built'])"
   ]
  },
  {
   "cell_type": "code",
   "execution_count": null,
   "metadata": {},
   "outputs": [],
   "source": []
  },
  {
   "cell_type": "markdown",
   "metadata": {},
   "source": [
    "In logistic regression the loss function is defined as (ŷ ,y)=−(ylog(ŷ )+(1−y)log(1−ŷ ))"
   ]
  },
  {
   "cell_type": "code",
   "execution_count": null,
   "metadata": {},
   "outputs": [],
   "source": []
  },
  {
   "cell_type": "markdown",
   "metadata": {},
   "source": [
    "log(x) + log(y) = log(xy)\n",
    "\n",
    "21 x 25\n",
    "\n",
    "log(21) + log(25) = 1.32 + 1.40 = 2.72\n",
    "\n",
    "10^2.72 = 525"
   ]
  },
  {
   "cell_type": "code",
   "execution_count": null,
   "metadata": {},
   "outputs": [],
   "source": []
  },
  {
   "cell_type": "markdown",
   "metadata": {},
   "source": [
    "log(50) = 1.7\n",
    "\n",
    "log(273) = log(2.73) + log(100)\n",
    "\n",
    "so: log(273) = log(2.73) + 2\n",
    "\n",
    "probablity a number starts with n: log(n + 1) - (log n)"
   ]
  },
  {
   "cell_type": "code",
   "execution_count": 2,
   "metadata": {},
   "outputs": [],
   "source": [
    "zerothruten = np.arange(0, 11)\n",
    "zerothruone = np.arange(0, 1.1, 0.1)\n",
    "zerothrufive = np.arange(0, 6)\n",
    "zerothrutwenty = np.arange(0, 21)\n",
    "threethruthree = np.arange(-3, 3.1, 0.1)\n",
    "zerothrutwo = np.arange(0, 2.1, 0.1)"
   ]
  },
  {
   "cell_type": "code",
   "execution_count": 7,
   "metadata": {},
   "outputs": [
    {
     "data": {
      "text/plain": [
       "[1.0,\n",
       " 1.2589254117941673,\n",
       " 1.5848931924611136,\n",
       " 1.9952623149688797,\n",
       " 2.51188643150958,\n",
       " 3.1622776601683795,\n",
       " 3.981071705534973,\n",
       " 5.011872336272724,\n",
       " 6.309573444801933,\n",
       " 7.943282347242816,\n",
       " 10.0]"
      ]
     },
     "execution_count": 7,
     "metadata": {},
     "output_type": "execute_result"
    }
   ],
   "source": [
    "[10 ** i for i in zerothruone ]"
   ]
  },
  {
   "cell_type": "code",
   "execution_count": 3,
   "metadata": {},
   "outputs": [
    {
     "name": "stderr",
     "output_type": "stream",
     "text": [
      "C:\\Users\\Stee\\Anaconda3good\\lib\\site-packages\\ipykernel_launcher.py:4: RuntimeWarning: invalid value encountered in log\n",
      "  after removing the cwd from sys.path.\n"
     ]
    },
    {
     "data": {
      "text/plain": [
       "<matplotlib.legend.Legend at 0x8c08668>"
      ]
     },
     "execution_count": 3,
     "metadata": {},
     "output_type": "execute_result"
    },
    {
     "data": {
      "image/png": "[encoded data removed]",
      "text/plain": [
       "<Figure size 648x648 with 1 Axes>"
      ]
     },
     "metadata": {
      "needs_background": "light"
     },
     "output_type": "display_data"
    }
   ],
   "source": [
    "fig = plt.figure(figsize = (9,9))\n",
    "plt.plot(threethruthree, threethruthree, label = '-3 thru 3')\n",
    "plt.plot(threethruthree, [np.e**x for x in threethruthree], label = 'e to the x in -3 thru 3')\n",
    "plt.plot(threethruthree, [np.log(x) for x in threethruthree], label = 'base-e log of -3 thru 3')\n",
    "plt.xlim(-4, 4)\n",
    "plt.ylim(-10, 10)\n",
    "plt.legend()"
   ]
  },
  {
   "cell_type": "code",
   "execution_count": 14,
   "metadata": {},
   "outputs": [
    {
     "data": {
      "text/plain": [
       "-4.605170185988091"
      ]
     },
     "execution_count": 14,
     "metadata": {},
     "output_type": "execute_result"
    }
   ],
   "source": [
    "test = np.log(0.01)\n",
    "test"
   ]
  },
  {
   "cell_type": "code",
   "execution_count": 15,
   "metadata": {},
   "outputs": [
    {
     "data": {
      "text/plain": [
       "2.4821602362195342e-05"
      ]
     },
     "execution_count": 15,
     "metadata": {},
     "output_type": "execute_result"
    }
   ],
   "source": [
    "10 ** test"
   ]
  },
  {
   "cell_type": "code",
   "execution_count": 16,
   "metadata": {},
   "outputs": [
    {
     "data": {
      "text/plain": [
       "array([0. , 0.1, 0.2, 0.3, 0.4, 0.5, 0.6, 0.7, 0.8, 0.9, 1. ])"
      ]
     },
     "execution_count": 16,
     "metadata": {},
     "output_type": "execute_result"
    }
   ],
   "source": [
    "zerothruone"
   ]
  },
  {
   "cell_type": "code",
   "execution_count": 8,
   "metadata": {},
   "outputs": [
    {
     "name": "stderr",
     "output_type": "stream",
     "text": [
      "/Users/ssrosa/anaconda3/lib/python3.7/site-packages/ipykernel_launcher.py:1: RuntimeWarning: divide by zero encountered in log10\n",
      "  \"\"\"Entry point for launching an IPython kernel.\n"
     ]
    },
    {
     "data": {
      "text/plain": [
       "[-inf,\n",
       " -1.0,\n",
       " -0.6989700043360187,\n",
       " -0.5228787452803375,\n",
       " -0.3979400086720376,\n",
       " -0.3010299956639812,\n",
       " -0.2218487496163563,\n",
       " -0.15490195998574313,\n",
       " -0.09691001300805639,\n",
       " -0.045757490560675115,\n",
       " 0.0]"
      ]
     },
     "execution_count": 8,
     "metadata": {},
     "output_type": "execute_result"
    }
   ],
   "source": [
    "[np.log10(x) for x in zerothruone]"
   ]
  },
  {
   "cell_type": "code",
   "execution_count": 4,
   "metadata": {},
   "outputs": [
    {
     "data": {
      "text/plain": [
       "<matplotlib.legend.Legend at 0x8c40f28>"
      ]
     },
     "execution_count": 4,
     "metadata": {},
     "output_type": "execute_result"
    },
    {
     "data": {
      "image/png": "[encoded data removed]",
      "text/plain": [
       "<Figure size 648x648 with 1 Axes>"
      ]
     },
     "metadata": {
      "needs_background": "light"
     },
     "output_type": "display_data"
    }
   ],
   "source": [
    "fig = plt.figure(figsize = (9,9))\n",
    "plt.plot(zerothruone, label = '0 through 1')\n",
    "plt.plot(zerothruten, label = '0 through 10')\n",
    "plt.plot([10 ** i for i in zerothruone ], label = '10 ** 0 through 1')\n",
    "plt.plot(np.log10([10 ** i for i in zerothruone ]), '+', label = 'log10 of 10 ** 0 through 1')\n",
    "plt.legend()"
   ]
  },
  {
   "cell_type": "code",
   "execution_count": 10,
   "metadata": {},
   "outputs": [
    {
     "name": "stderr",
     "output_type": "stream",
     "text": [
      "C:\\Users\\Stee\\Anaconda3good\\lib\\site-packages\\ipykernel_launcher.py:1: RuntimeWarning: divide by zero encountered in log10\n",
      "  \"\"\"Entry point for launching an IPython kernel.\n"
     ]
    },
    {
     "data": {
      "text/plain": [
       "array([      -inf, 0.        , 0.30103   , 0.47712125, 0.60205999,\n",
       "       0.69897   , 0.77815125, 0.84509804, 0.90308999, 0.95424251,\n",
       "       1.        ])"
      ]
     },
     "execution_count": 10,
     "metadata": {},
     "output_type": "execute_result"
    }
   ],
   "source": [
    "np.log10(zerothruten)"
   ]
  },
  {
   "cell_type": "code",
   "execution_count": 8,
   "metadata": {},
   "outputs": [
    {
     "data": {
      "text/plain": [
       "array([0. , 0.1, 0.2, 0.3, 0.4, 0.5, 0.6, 0.7, 0.8, 0.9, 1. ])"
      ]
     },
     "execution_count": 8,
     "metadata": {},
     "output_type": "execute_result"
    }
   ],
   "source": [
    "np.log10([10 ** i for i in zerothruone ])"
   ]
  },
  {
   "cell_type": "code",
   "execution_count": 9,
   "metadata": {},
   "outputs": [
    {
     "data": {
      "text/plain": [
       "array([0. , 0.1, 0.2, 0.3, 0.4, 0.5, 0.6, 0.7, 0.8, 0.9, 1. ])"
      ]
     },
     "execution_count": 9,
     "metadata": {},
     "output_type": "execute_result"
    }
   ],
   "source": [
    "zerothruone"
   ]
  },
  {
   "cell_type": "code",
   "execution_count": 5,
   "metadata": {},
   "outputs": [
    {
     "data": {
      "text/plain": [
       "array([0. , 0.1, 0.2, 0.3, 0.4, 0.5, 0.6, 0.7, 0.8, 0.9, 1. ])"
      ]
     },
     "execution_count": 5,
     "metadata": {},
     "output_type": "execute_result"
    }
   ],
   "source": [
    "np.log([np.e ** i for i in zerothruone ])"
   ]
  },
  {
   "cell_type": "code",
   "execution_count": 6,
   "metadata": {},
   "outputs": [
    {
     "data": {
      "text/plain": [
       "[1.0,\n",
       " 1.1051709180756477,\n",
       " 1.2214027581601699,\n",
       " 1.3498588075760032,\n",
       " 1.4918246976412703,\n",
       " 1.6487212707001282,\n",
       " 1.822118800390509,\n",
       " 2.0137527074704766,\n",
       " 2.2255409284924674,\n",
       " 2.4596031111569494,\n",
       " 2.718281828459045]"
      ]
     },
     "execution_count": 6,
     "metadata": {},
     "output_type": "execute_result"
    }
   ],
   "source": [
    "[np.e ** i for i in zerothruone ]"
   ]
  },
  {
   "cell_type": "code",
   "execution_count": 8,
   "metadata": {},
   "outputs": [
    {
     "data": {
      "text/plain": [
       "<matplotlib.legend.Legend at 0x115593ac8>"
      ]
     },
     "execution_count": 8,
     "metadata": {},
     "output_type": "execute_result"
    },
    {
     "data": {
      "image/png": "[encoded data removed]",
      "text/plain": [
       "<Figure size 576x432 with 1 Axes>"
      ]
     },
     "metadata": {
      "needs_background": "light"
     },
     "output_type": "display_data"
    }
   ],
   "source": [
    "fig = plt.figure(figsize = (8,6))\n",
    "plt.plot(zerothrutwo, label = '0 through 2')\n",
    "#plt.plot(zerothrutwenty, label = '0 through 20')\n",
    "plt.plot([10 ** i for i in zerothrutwo ], label = '10 ** 0 through 2')\n",
    "plt.plot(np.log10([10 ** i for i in zerothrutwo ]), '+', label = 'log10 of 10 ** 0 through 2')\n",
    "plt.legend()"
   ]
  },
  {
   "cell_type": "markdown",
   "metadata": {},
   "source": [
    "### Benford's Law"
   ]
  },
  {
   "cell_type": "code",
   "execution_count": 7,
   "metadata": {},
   "outputs": [
    {
     "data": {
      "text/plain": [
       "([<matplotlib.patches.Wedge at 0x902ad30>,\n",
       "  <matplotlib.patches.Wedge at 0x90332b0>,\n",
       "  <matplotlib.patches.Wedge at 0x90337f0>,\n",
       "  <matplotlib.patches.Wedge at 0x9033d30>,\n",
       "  <matplotlib.patches.Wedge at 0x903c2b0>,\n",
       "  <matplotlib.patches.Wedge at 0x903c7f0>,\n",
       "  <matplotlib.patches.Wedge at 0x903cd30>,\n",
       "  <matplotlib.patches.Wedge at 0x90462b0>,\n",
       "  <matplotlib.patches.Wedge at 0x90467f0>],\n",
       " [Text(0.6436807347013617, 0.8920062285513007, '0.301'),\n",
       "  Text(-0.8434779591346313, 0.7060771434157017, '0.1761'),\n",
       "  Text(-1.0661415846574631, -0.27081750583016895, '0.1249'),\n",
       "  Text(-0.6436807347013617, -0.8920062285513007, '0.0969'),\n",
       "  Text(-0.0789951537048763, -1.0971598633249136, '0.0792'),\n",
       "  Text(0.4153560030059213, -1.0185673226483094, '0.0669'),\n",
       "  Text(0.7733772136908508, -0.7822325008229819, '0.058'),\n",
       "  Text(0.9913499529052244, -0.4766815193342505, '0.0512'),\n",
       "  Text(1.0886541139057184, -0.15758242375390488, '0.0458')])"
      ]
     },
     "execution_count": 7,
     "metadata": {},
     "output_type": "execute_result"
    },
    {
     "data": {
      "image/png": "[encoded data removed]",
      "text/plain": [
       "<Figure size 432x432 with 1 Axes>"
      ]
     },
     "metadata": {},
     "output_type": "display_data"
    }
   ],
   "source": [
    "onethrunine = np.arange(1, 10)\n",
    "\n",
    "def benford(i):\n",
    "    n = 1 + ( 1 / i)\n",
    "    return np.log10(n)\n",
    "\n",
    "fig = plt.figure(figsize = (6,6))\n",
    "plt.pie([benford(i) for i in onethrunine], labels = [round(benford(i), 4) for i in onethrunine])"
   ]
  },
  {
   "cell_type": "code",
   "execution_count": 17,
   "metadata": {},
   "outputs": [
    {
     "data": {
      "text/plain": [
       "<BarContainer object of 9 artists>"
      ]
     },
     "execution_count": 17,
     "metadata": {},
     "output_type": "execute_result"
    },
    {
     "data": {
      "image/png": "[encoded data removed]",
      "text/plain": [
       "<Figure size 432x288 with 1 Axes>"
      ]
     },
     "metadata": {
      "needs_background": "light"
     },
     "output_type": "display_data"
    }
   ],
   "source": [
    "plt.bar([i for i in onethrunine], [benford(i) for i in onethrunine])"
   ]
  },
  {
   "cell_type": "code",
   "execution_count": 17,
   "metadata": {},
   "outputs": [
    {
     "data": {
      "text/plain": [
       "([<matplotlib.patches.Wedge at 0x115a0bba8>,\n",
       "  <matplotlib.patches.Wedge at 0x115a151d0>,\n",
       "  <matplotlib.patches.Wedge at 0x115a15780>,\n",
       "  <matplotlib.patches.Wedge at 0x115a15d30>,\n",
       "  <matplotlib.patches.Wedge at 0x115a1f320>,\n",
       "  <matplotlib.patches.Wedge at 0x115a1f8d0>,\n",
       "  <matplotlib.patches.Wedge at 0x115a1fe80>,\n",
       "  <matplotlib.patches.Wedge at 0x115a28470>],\n",
       " [Text(0.996776,0.465228,'139'),\n",
       "  Text(0.296921,1.05917,'135'),\n",
       "  Text(-0.595233,0.925039,'134'),\n",
       "  Text(-1.08421,0.185717,'130'),\n",
       "  Text(-0.883786,-0.654922,'127'),\n",
       "  Text(-0.18231,-1.08479,'117'),\n",
       "  Text(0.589409,-0.928761,'116'),\n",
       "  Text(1.04401,-0.346485,'102')])"
      ]
     },
     "execution_count": 17,
     "metadata": {},
     "output_type": "execute_result"
    },
    {
     "data": {
      "image/png": "[encoded data removed]",
      "text/plain": [
       "<Figure size 432x432 with 1 Axes>"
      ]
     },
     "metadata": {},
     "output_type": "display_data"
    }
   ],
   "source": [
    "#Random one-digit numbers\n",
    "choices = np.random.choice(np.arange(1,9), 1000)\n",
    "\n",
    "choices_proportions = pd.Series(choices).value_counts().values\n",
    "#They turn out to be roughly equal. You'd need a naturally-growing (??) data set.\n",
    "fig = plt.figure(figsize = (6,6))\n",
    "plt.pie(choices_proportions, labels = choices_proportions)"
   ]
  },
  {
   "cell_type": "code",
   "execution_count": null,
   "metadata": {},
   "outputs": [],
   "source": [
    "#Only the first digit of random numbers?\n",
    "#Convert to string and take 0 index"
   ]
  },
  {
   "cell_type": "code",
   "execution_count": null,
   "metadata": {},
   "outputs": [],
   "source": []
  },
  {
   "cell_type": "code",
   "execution_count": null,
   "metadata": {},
   "outputs": [],
   "source": []
  },
  {
   "cell_type": "code",
   "execution_count": null,
   "metadata": {},
   "outputs": [],
   "source": []
  },
  {
   "cell_type": "markdown",
   "metadata": {},
   "source": [
    "### Euler's Number"
   ]
  },
  {
   "cell_type": "code",
   "execution_count": 2,
   "metadata": {},
   "outputs": [
    {
     "data": {
      "text/plain": [
       "2.718281828459045"
      ]
     },
     "execution_count": 2,
     "metadata": {},
     "output_type": "execute_result"
    }
   ],
   "source": [
    "np.e"
   ]
  },
  {
   "cell_type": "code",
   "execution_count": 18,
   "metadata": {},
   "outputs": [
    {
     "data": {
      "text/plain": [
       "<matplotlib.legend.Legend at 0x115aecdd8>"
      ]
     },
     "execution_count": 18,
     "metadata": {},
     "output_type": "execute_result"
    },
    {
     "data": {
      "image/png": "[encoded data removed]",
      "text/plain": [
       "<Figure size 576x432 with 1 Axes>"
      ]
     },
     "metadata": {
      "needs_background": "light"
     },
     "output_type": "display_data"
    }
   ],
   "source": [
    "#With natural log\n",
    "fig = plt.figure(figsize = (8,6))\n",
    "plt.plot(zerothrutwo, label = '0 through 2')\n",
    "plt.plot([10 ** i for i in zerothrutwo ], label = '10 ** 0 through 2')\n",
    "plt.plot(np.log10([10 ** i for i in zerothrutwo ]), '+', label = 'log10 of 10 ** 0 through 2')\n",
    "plt.plot(np.log([10 ** i for i in zerothrutwo ]), '+', label = 'ln of 10 ** 0 through 2')\n",
    "plt.legend()"
   ]
  },
  {
   "cell_type": "code",
   "execution_count": 26,
   "metadata": {},
   "outputs": [
    {
     "name": "stderr",
     "output_type": "stream",
     "text": [
      "/Users/ssrosa/anaconda3/lib/python3.7/site-packages/ipykernel_launcher.py:5: RuntimeWarning: divide by zero encountered in log10\n",
      "  \"\"\"\n",
      "/Users/ssrosa/anaconda3/lib/python3.7/site-packages/ipykernel_launcher.py:6: RuntimeWarning: divide by zero encountered in log\n",
      "  \n"
     ]
    },
    {
     "data": {
      "text/plain": [
       "<matplotlib.legend.Legend at 0x1164dd518>"
      ]
     },
     "execution_count": 26,
     "metadata": {},
     "output_type": "execute_result"
    },
    {
     "data": {
      "image/png": "[encoded data removed]",
      "text/plain": [
       "<Figure size 576x432 with 1 Axes>"
      ]
     },
     "metadata": {
      "needs_background": "light"
     },
     "output_type": "display_data"
    }
   ],
   "source": [
    "#With natural log\n",
    "fig = plt.figure(figsize = (8,6))\n",
    "plt.plot(zerothrutwo, label = '0 through 2')\n",
    "#plt.plot(zerothrutwenty, label = '0 through 20')\n",
    "plt.plot(np.log10([i for i in zerothrutwo ]), '|', label = 'log10 0 through 2')\n",
    "plt.plot(np.log([i for i in zerothrutwo ]), '|', label = 'ln of 0 through 2')\n",
    "plt.plot(np.log10([10 ** i for i in zerothrutwo ]), '+', label = 'log10 of 10 ** 0 through 2')\n",
    "plt.plot(np.log([10 ** i for i in zerothrutwo ]), '+', label = 'ln of 10 ** 0 through 2')\n",
    "#plt.plot(np.log([np.e ** i for i in zerothrutwo ]), 'o', label = 'ln of e ** 0 through 2')\n",
    "plt.legend()"
   ]
  },
  {
   "cell_type": "code",
   "execution_count": null,
   "metadata": {},
   "outputs": [],
   "source": [
    "np.log10([10 ** i for i in zerothrutwo ]) #'log10 of 10 ** 0 through 2')\n",
    "np.log([10 ** i for i in zerothrutwo ]) #'ln of 10 ** 0 through 2')"
   ]
  },
  {
   "cell_type": "code",
   "execution_count": 29,
   "metadata": {
    "collapsed": true
   },
   "outputs": [
    {
     "data": {
      "text/html": [
       "<div>\n",
       "<style scoped>\n",
       "    .dataframe tbody tr th:only-of-type {\n",
       "        vertical-align: middle;\n",
       "    }\n",
       "\n",
       "    .dataframe tbody tr th {\n",
       "        vertical-align: top;\n",
       "    }\n",
       "\n",
       "    .dataframe thead th {\n",
       "        text-align: right;\n",
       "    }\n",
       "</style>\n",
       "<table border=\"1\" class=\"dataframe\">\n",
       "  <thead>\n",
       "    <tr style=\"text-align: right;\">\n",
       "      <th></th>\n",
       "      <th>10**0 thru 2</th>\n",
       "      <th>log10 of 10**0 thru 2</th>\n",
       "      <th>ln of 10 ** 0 through 2</th>\n",
       "      <th>e**0 thru 2</th>\n",
       "      <th>ln of e ** 0 through 2</th>\n",
       "    </tr>\n",
       "  </thead>\n",
       "  <tbody>\n",
       "    <tr>\n",
       "      <th>0.0</th>\n",
       "      <td>1.000000</td>\n",
       "      <td>0.0</td>\n",
       "      <td>0.000000</td>\n",
       "      <td>1.000000</td>\n",
       "      <td>0.0</td>\n",
       "    </tr>\n",
       "    <tr>\n",
       "      <th>0.1</th>\n",
       "      <td>1.258925</td>\n",
       "      <td>0.1</td>\n",
       "      <td>0.230259</td>\n",
       "      <td>1.105171</td>\n",
       "      <td>0.1</td>\n",
       "    </tr>\n",
       "    <tr>\n",
       "      <th>0.2</th>\n",
       "      <td>1.584893</td>\n",
       "      <td>0.2</td>\n",
       "      <td>0.460517</td>\n",
       "      <td>1.221403</td>\n",
       "      <td>0.2</td>\n",
       "    </tr>\n",
       "    <tr>\n",
       "      <th>0.3</th>\n",
       "      <td>1.995262</td>\n",
       "      <td>0.3</td>\n",
       "      <td>0.690776</td>\n",
       "      <td>1.349859</td>\n",
       "      <td>0.3</td>\n",
       "    </tr>\n",
       "    <tr>\n",
       "      <th>0.4</th>\n",
       "      <td>2.511886</td>\n",
       "      <td>0.4</td>\n",
       "      <td>0.921034</td>\n",
       "      <td>1.491825</td>\n",
       "      <td>0.4</td>\n",
       "    </tr>\n",
       "    <tr>\n",
       "      <th>0.5</th>\n",
       "      <td>3.162278</td>\n",
       "      <td>0.5</td>\n",
       "      <td>1.151293</td>\n",
       "      <td>1.648721</td>\n",
       "      <td>0.5</td>\n",
       "    </tr>\n",
       "    <tr>\n",
       "      <th>0.6</th>\n",
       "      <td>3.981072</td>\n",
       "      <td>0.6</td>\n",
       "      <td>1.381551</td>\n",
       "      <td>1.822119</td>\n",
       "      <td>0.6</td>\n",
       "    </tr>\n",
       "    <tr>\n",
       "      <th>0.7</th>\n",
       "      <td>5.011872</td>\n",
       "      <td>0.7</td>\n",
       "      <td>1.611810</td>\n",
       "      <td>2.013753</td>\n",
       "      <td>0.7</td>\n",
       "    </tr>\n",
       "    <tr>\n",
       "      <th>0.8</th>\n",
       "      <td>6.309573</td>\n",
       "      <td>0.8</td>\n",
       "      <td>1.842068</td>\n",
       "      <td>2.225541</td>\n",
       "      <td>0.8</td>\n",
       "    </tr>\n",
       "    <tr>\n",
       "      <th>0.9</th>\n",
       "      <td>7.943282</td>\n",
       "      <td>0.9</td>\n",
       "      <td>2.072327</td>\n",
       "      <td>2.459603</td>\n",
       "      <td>0.9</td>\n",
       "    </tr>\n",
       "    <tr>\n",
       "      <th>1.0</th>\n",
       "      <td>10.000000</td>\n",
       "      <td>1.0</td>\n",
       "      <td>2.302585</td>\n",
       "      <td>2.718282</td>\n",
       "      <td>1.0</td>\n",
       "    </tr>\n",
       "    <tr>\n",
       "      <th>1.1</th>\n",
       "      <td>12.589254</td>\n",
       "      <td>1.1</td>\n",
       "      <td>2.532844</td>\n",
       "      <td>3.004166</td>\n",
       "      <td>1.1</td>\n",
       "    </tr>\n",
       "    <tr>\n",
       "      <th>1.2</th>\n",
       "      <td>15.848932</td>\n",
       "      <td>1.2</td>\n",
       "      <td>2.763102</td>\n",
       "      <td>3.320117</td>\n",
       "      <td>1.2</td>\n",
       "    </tr>\n",
       "    <tr>\n",
       "      <th>1.3</th>\n",
       "      <td>19.952623</td>\n",
       "      <td>1.3</td>\n",
       "      <td>2.993361</td>\n",
       "      <td>3.669297</td>\n",
       "      <td>1.3</td>\n",
       "    </tr>\n",
       "    <tr>\n",
       "      <th>1.4</th>\n",
       "      <td>25.118864</td>\n",
       "      <td>1.4</td>\n",
       "      <td>3.223619</td>\n",
       "      <td>4.055200</td>\n",
       "      <td>1.4</td>\n",
       "    </tr>\n",
       "    <tr>\n",
       "      <th>1.5</th>\n",
       "      <td>31.622777</td>\n",
       "      <td>1.5</td>\n",
       "      <td>3.453878</td>\n",
       "      <td>4.481689</td>\n",
       "      <td>1.5</td>\n",
       "    </tr>\n",
       "    <tr>\n",
       "      <th>1.6</th>\n",
       "      <td>39.810717</td>\n",
       "      <td>1.6</td>\n",
       "      <td>3.684136</td>\n",
       "      <td>4.953032</td>\n",
       "      <td>1.6</td>\n",
       "    </tr>\n",
       "    <tr>\n",
       "      <th>1.7</th>\n",
       "      <td>50.118723</td>\n",
       "      <td>1.7</td>\n",
       "      <td>3.914395</td>\n",
       "      <td>5.473947</td>\n",
       "      <td>1.7</td>\n",
       "    </tr>\n",
       "    <tr>\n",
       "      <th>1.8</th>\n",
       "      <td>63.095734</td>\n",
       "      <td>1.8</td>\n",
       "      <td>4.144653</td>\n",
       "      <td>6.049647</td>\n",
       "      <td>1.8</td>\n",
       "    </tr>\n",
       "    <tr>\n",
       "      <th>1.9</th>\n",
       "      <td>79.432823</td>\n",
       "      <td>1.9</td>\n",
       "      <td>4.374912</td>\n",
       "      <td>6.685894</td>\n",
       "      <td>1.9</td>\n",
       "    </tr>\n",
       "    <tr>\n",
       "      <th>2.0</th>\n",
       "      <td>100.000000</td>\n",
       "      <td>2.0</td>\n",
       "      <td>4.605170</td>\n",
       "      <td>7.389056</td>\n",
       "      <td>2.0</td>\n",
       "    </tr>\n",
       "  </tbody>\n",
       "</table>\n",
       "</div>"
      ],
      "text/plain": [
       "     10**0 thru 2  log10 of 10**0 thru 2  ln of 10 ** 0 through 2  \\\n",
       "0.0      1.000000                    0.0                 0.000000   \n",
       "0.1      1.258925                    0.1                 0.230259   \n",
       "0.2      1.584893                    0.2                 0.460517   \n",
       "0.3      1.995262                    0.3                 0.690776   \n",
       "0.4      2.511886                    0.4                 0.921034   \n",
       "0.5      3.162278                    0.5                 1.151293   \n",
       "0.6      3.981072                    0.6                 1.381551   \n",
       "0.7      5.011872                    0.7                 1.611810   \n",
       "0.8      6.309573                    0.8                 1.842068   \n",
       "0.9      7.943282                    0.9                 2.072327   \n",
       "1.0     10.000000                    1.0                 2.302585   \n",
       "1.1     12.589254                    1.1                 2.532844   \n",
       "1.2     15.848932                    1.2                 2.763102   \n",
       "1.3     19.952623                    1.3                 2.993361   \n",
       "1.4     25.118864                    1.4                 3.223619   \n",
       "1.5     31.622777                    1.5                 3.453878   \n",
       "1.6     39.810717                    1.6                 3.684136   \n",
       "1.7     50.118723                    1.7                 3.914395   \n",
       "1.8     63.095734                    1.8                 4.144653   \n",
       "1.9     79.432823                    1.9                 4.374912   \n",
       "2.0    100.000000                    2.0                 4.605170   \n",
       "\n",
       "     e**0 thru 2  ln of e ** 0 through 2  \n",
       "0.0     1.000000                     0.0  \n",
       "0.1     1.105171                     0.1  \n",
       "0.2     1.221403                     0.2  \n",
       "0.3     1.349859                     0.3  \n",
       "0.4     1.491825                     0.4  \n",
       "0.5     1.648721                     0.5  \n",
       "0.6     1.822119                     0.6  \n",
       "0.7     2.013753                     0.7  \n",
       "0.8     2.225541                     0.8  \n",
       "0.9     2.459603                     0.9  \n",
       "1.0     2.718282                     1.0  \n",
       "1.1     3.004166                     1.1  \n",
       "1.2     3.320117                     1.2  \n",
       "1.3     3.669297                     1.3  \n",
       "1.4     4.055200                     1.4  \n",
       "1.5     4.481689                     1.5  \n",
       "1.6     4.953032                     1.6  \n",
       "1.7     5.473947                     1.7  \n",
       "1.8     6.049647                     1.8  \n",
       "1.9     6.685894                     1.9  \n",
       "2.0     7.389056                     2.0  "
      ]
     },
     "execution_count": 29,
     "metadata": {},
     "output_type": "execute_result"
    }
   ],
   "source": [
    "#Comparing base10 log to base-e log\n",
    "pd.DataFrame(data = {\n",
    "                    '10**0 thru 2': [10 ** i for i in zerothrutwo ],\n",
    "                    'log10 of 10**0 thru 2': np.log10([10 ** i for i in zerothrutwo ]),\n",
    "                     'ln of 10 ** 0 through 2': np.log([10 ** i for i in zerothrutwo ]),\n",
    "                     'e**0 thru 2': [np.e ** i for i in zerothrutwo ],\n",
    "                     'ln of e ** 0 through 2': np.log([np.e ** i for i in zerothrutwo ]),\n",
    "                    }, index = zerothrutwo)"
   ]
  },
  {
   "cell_type": "code",
   "execution_count": 32,
   "metadata": {},
   "outputs": [
    {
     "data": {
      "text/plain": [
       "2.718281828459045"
      ]
     },
     "execution_count": 32,
     "metadata": {},
     "output_type": "execute_result"
    }
   ],
   "source": [
    "e = np.e\n",
    "(e ** 1)"
   ]
  },
  {
   "cell_type": "code",
   "execution_count": 34,
   "metadata": {},
   "outputs": [
    {
     "data": {
      "text/plain": [
       "1.1051709180756477"
      ]
     },
     "execution_count": 34,
     "metadata": {},
     "output_type": "execute_result"
    }
   ],
   "source": [
    "(e ** 0.1)"
   ]
  },
  {
   "cell_type": "code",
   "execution_count": 35,
   "metadata": {},
   "outputs": [
    {
     "data": {
      "text/plain": [
       "0.27182818284590454"
      ]
     },
     "execution_count": 35,
     "metadata": {},
     "output_type": "execute_result"
    }
   ],
   "source": [
    "#No\n",
    "e * 0.1"
   ]
  },
  {
   "cell_type": "code",
   "execution_count": 36,
   "metadata": {
    "scrolled": true
   },
   "outputs": [
    {
     "data": {
      "text/plain": [
       "0.7389056098930651"
      ]
     },
     "execution_count": 36,
     "metadata": {},
     "output_type": "execute_result"
    }
   ],
   "source": [
    "#No\n",
    "e * (e * 0.1)"
   ]
  },
  {
   "cell_type": "code",
   "execution_count": 37,
   "metadata": {},
   "outputs": [
    {
     "data": {
      "text/plain": [
       "1.0107337927389697"
      ]
     },
     "execution_count": 37,
     "metadata": {},
     "output_type": "execute_result"
    }
   ],
   "source": [
    "#No\n",
    "(e * 0.1) + (e * (e * 0.1))"
   ]
  },
  {
   "cell_type": "code",
   "execution_count": null,
   "metadata": {},
   "outputs": [],
   "source": [
    "(e ** 0.1)"
   ]
  },
  {
   "cell_type": "code",
   "execution_count": 38,
   "metadata": {},
   "outputs": [
    {
     "data": {
      "text/plain": [
       "2.4596031111569494"
      ]
     },
     "execution_count": 38,
     "metadata": {},
     "output_type": "execute_result"
    }
   ],
   "source": [
    "e / (e ** 0.1)"
   ]
  },
  {
   "cell_type": "code",
   "execution_count": 41,
   "metadata": {},
   "outputs": [
    {
     "data": {
      "text/plain": [
       "2.4596031111569494"
      ]
     },
     "execution_count": 41,
     "metadata": {},
     "output_type": "execute_result"
    }
   ],
   "source": [
    "e ** .9"
   ]
  },
  {
   "cell_type": "code",
   "execution_count": null,
   "metadata": {},
   "outputs": [],
   "source": [
    "#e divided by e to the 0.1 power equals e to the 0.9 power\n",
    "#Makes sense because divided exponents can be subtracted. (1 - 0.1 = 0.9)"
   ]
  },
  {
   "cell_type": "code",
   "execution_count": 39,
   "metadata": {},
   "outputs": [
    {
     "data": {
      "text/plain": [
       "6.049647464412945"
      ]
     },
     "execution_count": 39,
     "metadata": {},
     "output_type": "execute_result"
    }
   ],
   "source": [
    "(e / (e ** 0.1)) * (e / (e ** 0.1))"
   ]
  },
  {
   "cell_type": "code",
   "execution_count": 40,
   "metadata": {},
   "outputs": [
    {
     "data": {
      "text/plain": [
       "6.049647464412946"
      ]
     },
     "execution_count": 40,
     "metadata": {},
     "output_type": "execute_result"
    }
   ],
   "source": [
    "e ** 1.8"
   ]
  },
  {
   "cell_type": "code",
   "execution_count": null,
   "metadata": {},
   "outputs": [],
   "source": [
    "#e to the 0.9 power times itself equals e to the 1.8 power, which makes sense\n",
    "#(Multiplied exponents can be added together. (0.9 + 0.9 = 1.8))"
   ]
  },
  {
   "cell_type": "code",
   "execution_count": 14,
   "metadata": {
    "collapsed": true
   },
   "outputs": [
    {
     "name": "stdout",
     "output_type": "stream",
     "text": [
      "(0.0, -inf)\n",
      "(0.1, -2.3025850929940455)\n",
      "(0.2, -1.6094379124341003)\n",
      "(0.30000000000000004, -1.203972804325936)\n",
      "(0.4, -0.916290731874155)\n",
      "(0.5, -0.6931471805599453)\n",
      "(0.6000000000000001, -0.5108256237659905)\n",
      "(0.7000000000000001, -0.3566749439387323)\n",
      "(0.8, -0.2231435513142097)\n",
      "(0.9, -0.10536051565782628)\n",
      "(1.0, 0.0)\n",
      "(1.1, 0.09531017980432493)\n",
      "(1.2000000000000002, 0.1823215567939548)\n",
      "(1.3, 0.26236426446749106)\n",
      "(1.4000000000000001, 0.336472236621213)\n",
      "(1.5, 0.4054651081081644)\n",
      "(1.6, 0.47000362924573563)\n",
      "(1.7000000000000002, 0.5306282510621705)\n",
      "(1.8, 0.5877866649021191)\n",
      "(1.9000000000000001, 0.6418538861723948)\n",
      "(2.0, 0.6931471805599453)\n"
     ]
    },
    {
     "name": "stderr",
     "output_type": "stream",
     "text": [
      "C:\\Users\\Stee\\Anaconda3good\\lib\\site-packages\\ipykernel_launcher.py:2: RuntimeWarning: divide by zero encountered in log\n",
      "  \n"
     ]
    }
   ],
   "source": [
    "for i in zerothrutwo:\n",
    "    print((i, np.log(i)))"
   ]
  },
  {
   "cell_type": "code",
   "execution_count": 42,
   "metadata": {},
   "outputs": [
    {
     "data": {
      "text/plain": [
       "9.202207759036984"
      ]
     },
     "execution_count": 42,
     "metadata": {},
     "output_type": "execute_result"
    }
   ],
   "source": [
    "(10**0.1) + (10 ** 0.9)"
   ]
  },
  {
   "cell_type": "code",
   "execution_count": 43,
   "metadata": {},
   "outputs": [
    {
     "data": {
      "text/plain": [
       "10.000000000000002"
      ]
     },
     "execution_count": 43,
     "metadata": {},
     "output_type": "execute_result"
    }
   ],
   "source": [
    "(10**0.1) * (10 ** 0.9)"
   ]
  },
  {
   "cell_type": "code",
   "execution_count": 44,
   "metadata": {},
   "outputs": [
    {
     "data": {
      "text/plain": [
       "1.2589254117941673"
      ]
     },
     "execution_count": 44,
     "metadata": {},
     "output_type": "execute_result"
    }
   ],
   "source": [
    "(10**0.1)"
   ]
  },
  {
   "cell_type": "code",
   "execution_count": 45,
   "metadata": {},
   "outputs": [
    {
     "data": {
      "text/plain": [
       "316227.76601683826"
      ]
     },
     "execution_count": 45,
     "metadata": {},
     "output_type": "execute_result"
    }
   ],
   "source": [
    "np.product([10 ** i for i in zerothruone ])"
   ]
  },
  {
   "cell_type": "code",
   "execution_count": 48,
   "metadata": {},
   "outputs": [
    {
     "data": {
      "text/plain": [
       "5.500000000000001"
      ]
     },
     "execution_count": 48,
     "metadata": {},
     "output_type": "execute_result"
    }
   ],
   "source": [
    "np.sum(zerothruone)"
   ]
  },
  {
   "cell_type": "code",
   "execution_count": 49,
   "metadata": {},
   "outputs": [
    {
     "data": {
      "text/plain": [
       "316227.7660168379"
      ]
     },
     "execution_count": 49,
     "metadata": {},
     "output_type": "execute_result"
    }
   ],
   "source": [
    "10 ** 5.5"
   ]
  },
  {
   "cell_type": "code",
   "execution_count": 50,
   "metadata": {},
   "outputs": [
    {
     "data": {
      "text/plain": [
       "0.1"
      ]
     },
     "execution_count": 50,
     "metadata": {},
     "output_type": "execute_result"
    }
   ],
   "source": [
    "10** (-1)"
   ]
  },
  {
   "cell_type": "code",
   "execution_count": 51,
   "metadata": {},
   "outputs": [
    {
     "data": {
      "text/plain": [
       "0.01"
      ]
     },
     "execution_count": 51,
     "metadata": {},
     "output_type": "execute_result"
    }
   ],
   "source": [
    "10 ** (-2)"
   ]
  },
  {
   "cell_type": "code",
   "execution_count": 52,
   "metadata": {},
   "outputs": [
    {
     "data": {
      "text/plain": [
       "1.2589254117941673"
      ]
     },
     "execution_count": 52,
     "metadata": {},
     "output_type": "execute_result"
    }
   ],
   "source": [
    "10 ** (10** (-1))"
   ]
  },
  {
   "cell_type": "code",
   "execution_count": 5,
   "metadata": {},
   "outputs": [],
   "source": [
    "def interest(n):\n",
    "    return (1 + (1 / n)) ** n"
   ]
  },
  {
   "cell_type": "code",
   "execution_count": 8,
   "metadata": {},
   "outputs": [
    {
     "data": {
      "text/plain": [
       "[2.0,\n",
       " 2.25,\n",
       " 2.37037037037037,\n",
       " 2.44140625,\n",
       " 2.4883199999999994,\n",
       " 2.5216263717421135,\n",
       " 2.546499697040712,\n",
       " 2.565784513950348,\n",
       " 2.5811747917131984]"
      ]
     },
     "execution_count": 8,
     "metadata": {},
     "output_type": "execute_result"
    }
   ],
   "source": [
    "[interest(i) for i in onethrunine]"
   ]
  },
  {
   "cell_type": "code",
   "execution_count": 15,
   "metadata": {},
   "outputs": [
    {
     "data": {
      "text/plain": [
       "<matplotlib.legend.Legend at 0xa2a8c88>"
      ]
     },
     "execution_count": 15,
     "metadata": {},
     "output_type": "execute_result"
    },
    {
     "data": {
      "image/png": "[encoded data removed]",
      "text/plain": [
       "<Figure size 432x288 with 1 Axes>"
      ]
     },
     "metadata": {
      "needs_background": "light"
     },
     "output_type": "display_data"
    }
   ],
   "source": [
    "plt.plot([interest(i) for i in np.arange(1, 365)], label = 'interest')\n",
    "plt.hlines(np.e, 0, 365, label = 'e')\n",
    "plt.legend()"
   ]
  },
  {
   "cell_type": "code",
   "execution_count": null,
   "metadata": {},
   "outputs": [],
   "source": []
  },
  {
   "cell_type": "code",
   "execution_count": null,
   "metadata": {},
   "outputs": [],
   "source": []
  },
  {
   "cell_type": "code",
   "execution_count": null,
   "metadata": {},
   "outputs": [],
   "source": []
  },
  {
   "cell_type": "code",
   "execution_count": null,
   "metadata": {},
   "outputs": [],
   "source": []
  }
 ],
 "metadata": {
  "kernelspec": {
   "display_name": "Python 3",
   "language": "python",
   "name": "python3"
  },
  "language_info": {
   "codemirror_mode": {
    "name": "ipython",
    "version": 3
   },
   "file_extension": ".py",
   "mimetype": "text/x-python",
   "name": "python",
   "nbconvert_exporter": "python",
   "pygments_lexer": "ipython3",
   "version": "3.6.8"
  }
 },
 "nbformat": 4,
 "nbformat_minor": 2
}
