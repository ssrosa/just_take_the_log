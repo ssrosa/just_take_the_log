{
 "cells": [
  {
   "cell_type": "markdown",
   "metadata": {},
   "source": [
    "# Just Take the Log!\n",
    "## Why does everybody want me to take the log?"
   ]
  },
  {
   "cell_type": "code",
   "execution_count": 1,
   "metadata": {},
   "outputs": [],
   "source": [
    "import numpy as np\n",
    "import matplotlib.pyplot as plt\n",
    "import pandas as pd"
   ]
  },
  {
   "cell_type": "code",
   "execution_count": null,
   "metadata": {},
   "outputs": [],
   "source": [
    "#First log-transform each column to reduce skew\n",
    "#and set a similar scale for each\n",
    "price_normed = np.log(df_normed['price'])\n",
    "sqft_normed = np.log(df_normed['sqft']) \n",
    "yr_built_normed = np.log(df_normed['yr_built'])"
   ]
  },
  {
   "cell_type": "code",
   "execution_count": null,
   "metadata": {},
   "outputs": [],
   "source": []
  },
  {
   "cell_type": "code",
   "execution_count": null,
   "metadata": {},
   "outputs": [],
   "source": [
    "In logistic regression the loss function is defined as (ŷ ,y)=−(ylog(ŷ )+(1−y)log(1−ŷ ))"
   ]
  },
  {
   "cell_type": "code",
   "execution_count": null,
   "metadata": {},
   "outputs": [],
   "source": []
  },
  {
   "cell_type": "markdown",
   "metadata": {},
   "source": [
    "log(x) + log(y) = log(xy)\n",
    "\n",
    "21 x 25\n",
    "log(21) + log(25) = 1.32 + 1.40 = 2.72\n",
    "10^2.72 = 525"
   ]
  },
  {
   "cell_type": "code",
   "execution_count": null,
   "metadata": {},
   "outputs": [],
   "source": []
  },
  {
   "cell_type": "markdown",
   "metadata": {},
   "source": [
    "log(50) = 1.7\n",
    "log(273) = log(2.73) + log(100)\n",
    "so: log(273) = log(2.73) + 2\n",
    "\n",
    "probablity a number starts with n: log(n + 1) - (log n)"
   ]
  },
  {
   "cell_type": "code",
   "execution_count": null,
   "metadata": {},
   "outputs": [],
   "source": []
  },
  {
   "cell_type": "code",
   "execution_count": 3,
   "metadata": {},
   "outputs": [
    {
     "data": {
      "text/plain": [
       "array([ 0,  1,  2,  3,  4,  5,  6,  7,  8,  9, 10])"
      ]
     },
     "execution_count": 3,
     "metadata": {},
     "output_type": "execute_result"
    }
   ],
   "source": [
    "zerothruten = np.arange(0, 11)\n",
    "zerothruten"
   ]
  },
  {
   "cell_type": "code",
   "execution_count": 4,
   "metadata": {},
   "outputs": [
    {
     "data": {
      "text/plain": [
       "array([0. , 0.1, 0.2, 0.3, 0.4, 0.5, 0.6, 0.7, 0.8, 0.9, 1. ])"
      ]
     },
     "execution_count": 4,
     "metadata": {},
     "output_type": "execute_result"
    }
   ],
   "source": [
    "zerothruone = np.arange(0, 1.1, 0.1)\n",
    "zerothruone"
   ]
  },
  {
   "cell_type": "code",
   "execution_count": 7,
   "metadata": {},
   "outputs": [
    {
     "data": {
      "text/plain": [
       "[1.0,\n",
       " 1.2589254117941673,\n",
       " 1.5848931924611136,\n",
       " 1.9952623149688797,\n",
       " 2.51188643150958,\n",
       " 3.1622776601683795,\n",
       " 3.981071705534973,\n",
       " 5.011872336272724,\n",
       " 6.309573444801933,\n",
       " 7.943282347242816,\n",
       " 10.0]"
      ]
     },
     "execution_count": 7,
     "metadata": {},
     "output_type": "execute_result"
    }
   ],
   "source": [
    "[10 ** i for i in zerothruone ]"
   ]
  },
  {
   "cell_type": "code",
   "execution_count": 10,
   "metadata": {},
   "outputs": [
    {
     "data": {
      "text/plain": [
       "<matplotlib.legend.Legend at 0x544fb00>"
      ]
     },
     "execution_count": 10,
     "metadata": {},
     "output_type": "execute_result"
    },
    {
     "data": {
      "image/png": "[encoded data removed]",
      "text/plain": [
       "<Figure size 576x432 with 1 Axes>"
      ]
     },
     "metadata": {
      "needs_background": "light"
     },
     "output_type": "display_data"
    }
   ],
   "source": [
    "fig = plt.figure(figsize = (8,6))\n",
    "plt.plot(zerothruone, label = '0 through 1')\n",
    "plt.plot(zerothruten, label = '0 through 10')\n",
    "plt.plot([10 ** i for i in zerothruone ], label = '10 ** 0 through 1')\n",
    "plt.plot(np.log10([10 ** i for i in zerothruone ]), '+', label = 'log10 of 10 ** 0 through 1')\n",
    "plt.legend()"
   ]
  },
  {
   "cell_type": "code",
   "execution_count": 10,
   "metadata": {},
   "outputs": [
    {
     "name": "stderr",
     "output_type": "stream",
     "text": [
      "C:\\Users\\Stee\\Anaconda3good\\lib\\site-packages\\ipykernel_launcher.py:1: RuntimeWarning: divide by zero encountered in log10\n",
      "  \"\"\"Entry point for launching an IPython kernel.\n"
     ]
    },
    {
     "data": {
      "text/plain": [
       "array([      -inf, 0.        , 0.30103   , 0.47712125, 0.60205999,\n",
       "       0.69897   , 0.77815125, 0.84509804, 0.90308999, 0.95424251,\n",
       "       1.        ])"
      ]
     },
     "execution_count": 10,
     "metadata": {},
     "output_type": "execute_result"
    }
   ],
   "source": [
    "np.log10(zerothruten)"
   ]
  },
  {
   "cell_type": "code",
   "execution_count": 8,
   "metadata": {},
   "outputs": [
    {
     "data": {
      "text/plain": [
       "array([0. , 0.1, 0.2, 0.3, 0.4, 0.5, 0.6, 0.7, 0.8, 0.9, 1. ])"
      ]
     },
     "execution_count": 8,
     "metadata": {},
     "output_type": "execute_result"
    }
   ],
   "source": [
    "np.log10([10 ** i for i in zerothruone ])"
   ]
  },
  {
   "cell_type": "code",
   "execution_count": 9,
   "metadata": {},
   "outputs": [
    {
     "data": {
      "text/plain": [
       "array([0. , 0.1, 0.2, 0.3, 0.4, 0.5, 0.6, 0.7, 0.8, 0.9, 1. ])"
      ]
     },
     "execution_count": 9,
     "metadata": {},
     "output_type": "execute_result"
    }
   ],
   "source": [
    "zerothruone"
   ]
  },
  {
   "cell_type": "code",
   "execution_count": 11,
   "metadata": {},
   "outputs": [],
   "source": [
    "zerothrutwenty = np.arange(0, 21)\n",
    "zerothrutwo = np.arange(0, 2.1, 0.1)"
   ]
  },
  {
   "cell_type": "code",
   "execution_count": 13,
   "metadata": {},
   "outputs": [
    {
     "data": {
      "text/plain": [
       "<matplotlib.legend.Legend at 0x5546dd8>"
      ]
     },
     "execution_count": 13,
     "metadata": {},
     "output_type": "execute_result"
    },
    {
     "data": {
      "image/png": "[encoded data removed]",
      "text/plain": [
       "<Figure size 576x432 with 1 Axes>"
      ]
     },
     "metadata": {
      "needs_background": "light"
     },
     "output_type": "display_data"
    }
   ],
   "source": [
    "fig = plt.figure(figsize = (8,6))\n",
    "plt.plot(zerothrutwo, label = '0 through 2')\n",
    "plt.plot(zerothrutwenty, label = '0 through 20')\n",
    "plt.plot([10 ** i for i in zerothrutwo ], label = '10 ** 0 through 2')\n",
    "plt.plot(np.log10([10 ** i for i in zerothrutwo ]), '+', label = 'log10 of 10 ** 0 through 2')\n",
    "plt.legend()"
   ]
  },
  {
   "cell_type": "code",
   "execution_count": 3,
   "metadata": {},
   "outputs": [],
   "source": [
    "onethrunine = np.arange(1, 10)"
   ]
  },
  {
   "cell_type": "code",
   "execution_count": 4,
   "metadata": {},
   "outputs": [
    {
     "data": {
      "text/plain": [
       "array([1, 2, 3, 4, 5, 6, 7, 8, 9])"
      ]
     },
     "execution_count": 4,
     "metadata": {},
     "output_type": "execute_result"
    }
   ],
   "source": [
    "onethrunine"
   ]
  },
  {
   "cell_type": "code",
   "execution_count": 5,
   "metadata": {},
   "outputs": [],
   "source": [
    "def benford(i):\n",
    "    n = 1 + ( 1 / i)\n",
    "    return np.log10(n)"
   ]
  },
  {
   "cell_type": "code",
   "execution_count": 10,
   "metadata": {},
   "outputs": [
    {
     "data": {
      "text/plain": [
       "1.0"
      ]
     },
     "execution_count": 10,
     "metadata": {},
     "output_type": "execute_result"
    }
   ],
   "source": [
    "sum([benford(i) for i in onethrunine])"
   ]
  },
  {
   "cell_type": "code",
   "execution_count": 15,
   "metadata": {},
   "outputs": [
    {
     "data": {
      "text/plain": [
       "([<matplotlib.patches.Wedge at 0x117ca20f0>,\n",
       "  <matplotlib.patches.Wedge at 0x117ca2668>,\n",
       "  <matplotlib.patches.Wedge at 0x117ca2c18>,\n",
       "  <matplotlib.patches.Wedge at 0x117cab208>,\n",
       "  <matplotlib.patches.Wedge at 0x117cab7b8>,\n",
       "  <matplotlib.patches.Wedge at 0x117cabd68>,\n",
       "  <matplotlib.patches.Wedge at 0x117cb3358>,\n",
       "  <matplotlib.patches.Wedge at 0x117cb3908>,\n",
       "  <matplotlib.patches.Wedge at 0x117cb3eb8>],\n",
       " [Text(0.643681,0.892006,'0.301'),\n",
       "  Text(-0.843478,0.706077,'0.1761'),\n",
       "  Text(-1.06614,-0.270818,'0.1249'),\n",
       "  Text(-0.643681,-0.892006,'0.0969'),\n",
       "  Text(-0.0789952,-1.09716,'0.0792'),\n",
       "  Text(0.415356,-1.01857,'0.0669'),\n",
       "  Text(0.773377,-0.782233,'0.058'),\n",
       "  Text(0.99135,-0.476682,'0.0512'),\n",
       "  Text(1.08865,-0.157582,'0.0458')])"
      ]
     },
     "execution_count": 15,
     "metadata": {},
     "output_type": "execute_result"
    },
    {
     "data": {
      "image/png": "[encoded data removed]",
      "text/plain": [
       "<Figure size 432x288 with 1 Axes>"
      ]
     },
     "metadata": {},
     "output_type": "display_data"
    }
   ],
   "source": [
    "plt.pie([benford(i) for i in onethrunine], labels = [round(benford(i), 4) for i in onethrunine])"
   ]
  },
  {
   "cell_type": "code",
   "execution_count": 17,
   "metadata": {},
   "outputs": [
    {
     "data": {
      "text/plain": [
       "<BarContainer object of 9 artists>"
      ]
     },
     "execution_count": 17,
     "metadata": {},
     "output_type": "execute_result"
    },
    {
     "data": {
      "image/png": "[encoded data removed]",
      "text/plain": [
       "<Figure size 432x288 with 1 Axes>"
      ]
     },
     "metadata": {
      "needs_background": "light"
     },
     "output_type": "display_data"
    }
   ],
   "source": [
    "plt.bar([i for i in onethrunine], [benford(i) for i in onethrunine])"
   ]
  },
  {
   "cell_type": "code",
   "execution_count": 18,
   "metadata": {},
   "outputs": [],
   "source": [
    "#Random one-digit numbers\n",
    "choices = np.random.choice(np.arange(1,9), 1000)"
   ]
  },
  {
   "cell_type": "code",
   "execution_count": 20,
   "metadata": {},
   "outputs": [],
   "source": []
  },
  {
   "cell_type": "code",
   "execution_count": 22,
   "metadata": {
    "scrolled": true
   },
   "outputs": [
    {
     "data": {
      "text/plain": [
       "array([143, 130, 129, 128, 124, 120, 119, 107])"
      ]
     },
     "execution_count": 22,
     "metadata": {},
     "output_type": "execute_result"
    }
   ],
   "source": [
    "#They turn out to be roughly equal. You'd need a naturally-growing (??) data set.\n",
    "pd.Series(choices).value_counts()"
   ]
  },
  {
   "cell_type": "code",
   "execution_count": 25,
   "metadata": {},
   "outputs": [
    {
     "data": {
      "text/plain": [
       "([<matplotlib.patches.Wedge at 0x1199d74e0>,\n",
       "  <matplotlib.patches.Wedge at 0x1199d7a20>,\n",
       "  <matplotlib.patches.Wedge at 0x1199d7f60>,\n",
       "  <matplotlib.patches.Wedge at 0x1199e04e0>,\n",
       "  <matplotlib.patches.Wedge at 0x1199e0a20>,\n",
       "  <matplotlib.patches.Wedge at 0x1199e0f60>,\n",
       "  <matplotlib.patches.Wedge at 0x119a4f4e0>,\n",
       "  <matplotlib.patches.Wedge at 0x119a4fa20>],\n",
       " [Text(0.990851,0.477717,''),\n",
       "  Text(0.286926,1.06192,''),\n",
       "  Text(-0.574748,0.937904,''),\n",
       "  Text(-1.07499,0.233208,''),\n",
       "  Text(-0.921281,-0.601034,''),\n",
       "  Text(-0.246698,-1.07198,''),\n",
       "  Text(0.550997,-0.952051,''),\n",
       "  Text(1.03843,-0.362841,'')])"
      ]
     },
     "execution_count": 25,
     "metadata": {},
     "output_type": "execute_result"
    },
    {
     "data": {
      "image/png": "[encoded data removed]",
      "text/plain": [
       "<Figure size 432x288 with 1 Axes>"
      ]
     },
     "metadata": {},
     "output_type": "display_data"
    }
   ],
   "source": [
    "plt.pie(pd.Series(choices).value_counts().values)"
   ]
  },
  {
   "cell_type": "code",
   "execution_count": null,
   "metadata": {},
   "outputs": [],
   "source": [
    "#Only the first digit of random numbers?"
   ]
  },
  {
   "cell_type": "code",
   "execution_count": null,
   "metadata": {},
   "outputs": [],
   "source": []
  },
  {
   "cell_type": "code",
   "execution_count": null,
   "metadata": {},
   "outputs": [],
   "source": []
  },
  {
   "cell_type": "code",
   "execution_count": null,
   "metadata": {},
   "outputs": [],
   "source": []
  },
  {
   "cell_type": "code",
   "execution_count": null,
   "metadata": {},
   "outputs": [],
   "source": []
  },
  {
   "cell_type": "code",
   "execution_count": null,
   "metadata": {},
   "outputs": [],
   "source": []
  },
  {
   "cell_type": "code",
   "execution_count": null,
   "metadata": {},
   "outputs": [],
   "source": []
  },
  {
   "cell_type": "code",
   "execution_count": null,
   "metadata": {},
   "outputs": [],
   "source": []
  }
 ],
 "metadata": {
  "kernelspec": {
   "display_name": "Python 3",
   "language": "python",
   "name": "python3"
  },
  "language_info": {
   "codemirror_mode": {
    "name": "ipython",
    "version": 3
   },
   "file_extension": ".py",
   "mimetype": "text/x-python",
   "name": "python",
   "nbconvert_exporter": "python",
   "pygments_lexer": "ipython3",
   "version": "3.7.0"
  }
 },
 "nbformat": 4,
 "nbformat_minor": 2
}
